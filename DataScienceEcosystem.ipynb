{
 "cells": [
  {
   "cell_type": "markdown",
   "id": "49cf807c",
   "metadata": {},
   "source": [
    "# Data Science Tools and Ecosystem"
   ]
  },
  {
   "cell_type": "markdown",
   "id": "fc56234f",
   "metadata": {},
   "source": [
    "In this notebook, Data Science Tools and Ecosystem are summarized."
   ]
  },
  {
   "cell_type": "markdown",
   "id": "4ad553b1",
   "metadata": {},
   "source": [
    "**Objectives:**\n",
    "* Popular languages for Data Science\n",
    "* Popular libraries for Data Science\n",
    "* Data Science tools\n",
    "* Evaluation of some arithmetic expressions in Python"
   ]
  },
  {
   "cell_type": "markdown",
   "id": "d91b85a4",
   "metadata": {},
   "source": [
    "Some of the popular languages that Data Scientists use are:<br>\n",
    "1) Python<br>\n",
    "2) R<br>\n",
    "3) Scala<br>\n",
    "4) Java<br>"
   ]
  },
  {
   "cell_type": "markdown",
   "id": "16cd2020",
   "metadata": {},
   "source": [
    "Some of the commonly used libraries used by Data Scientists include:<br>\n",
    "1) Pandas<br>\n",
    "2) Matplotlib<br>\n",
    "3) Seaborn<br>\n",
    "4) Scikit-learn<br>\n",
    "5) Scipy<br>"
   ]
  },
  {
   "cell_type": "markdown",
   "id": "2ab182bd",
   "metadata": {},
   "source": [
    "| Data Science Tools     |\n",
    "|:-----------------------|\n",
    "|1) Jupyter              |\n",
    "|2) Apache Zeppelin      |                                   \n",
    "|3) RStudio              |\n",
    "|4) Spyder               |"
   ]
  },
  {
   "cell_type": "markdown",
   "id": "446f6fbd",
   "metadata": {},
   "source": [
    "### Below are a few examples of evaluating arithmetic expressions in Python"
   ]
  },
  {
   "cell_type": "code",
   "execution_count": 3,
   "id": "6f8af0b0",
   "metadata": {},
   "outputs": [
    {
     "data": {
      "text/plain": [
       "17"
      ]
     },
     "execution_count": 3,
     "metadata": {},
     "output_type": "execute_result"
    }
   ],
   "source": [
    "# This a simple arithmetic expression to mutiply then add integers\n",
    "\n",
    "(3*4)+5"
   ]
  },
  {
   "cell_type": "code",
   "execution_count": 4,
   "id": "441e9313",
   "metadata": {},
   "outputs": [
    {
     "data": {
      "text/plain": [
       "3.3333333333333335"
      ]
     },
     "execution_count": 4,
     "metadata": {},
     "output_type": "execute_result"
    }
   ],
   "source": [
    "# This will convert 200 minutes to hours by diving by 60\n",
    "\n",
    "200/60"
   ]
  },
  {
   "cell_type": "markdown",
   "id": "8b2ec27e",
   "metadata": {},
   "source": [
    "## Author\n",
    "\\- Anshul Mehra"
   ]
  }
 ],
 "metadata": {
  "kernelspec": {
   "display_name": "Python 3 (ipykernel)",
   "language": "python",
   "name": "python3"
  },
  "language_info": {
   "codemirror_mode": {
    "name": "ipython",
    "version": 3
   },
   "file_extension": ".py",
   "mimetype": "text/x-python",
   "name": "python",
   "nbconvert_exporter": "python",
   "pygments_lexer": "ipython3",
   "version": "3.9.13"
  }
 },
 "nbformat": 4,
 "nbformat_minor": 5
}
